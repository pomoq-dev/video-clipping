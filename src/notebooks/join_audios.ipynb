{
 "cells": [
  {
   "cell_type": "code",
   "execution_count": null,
   "metadata": {
    "collapsed": true,
    "pycharm": {
     "name": "#%%\n"
    }
   },
   "outputs": [],
   "source": [
    "from google.colab import drive\n",
    "import os\n",
    "\n",
    "drive.mount('/content/drive')\n",
    "\n",
    "AUDIOS_DIR = '/content/drive/MyDrive/AUDIOS'"
   ]
  },
  {
   "cell_type": "code",
   "execution_count": null,
   "outputs": [],
   "source": [
    "print('Git clone project and install requirements...')\n",
    "!git clone https://github.com/pomoq-dev/video-clipping.git &> /dev/null\n",
    "%cd video-clipping/\n",
    "\n",
    "!export PYTHONPATH=/content/video-clipping:$PYTHONPATH\n",
    "!wget https://github.com/yt-dlp/yt-dlp/releases/latest/download/yt-dlp -O /usr/local/bin/yt-dlp\n",
    "!chmod a+rx /usr/local/bin/yt-dlp\n",
    "\n",
    "!pip install -r requirements.txt"
   ],
   "metadata": {
    "collapsed": false,
    "pycharm": {
     "name": "#%%\n"
    }
   }
  },
  {
   "cell_type": "code",
   "execution_count": null,
   "outputs": [],
   "source": [
    "from vidlib.files_tools import list_full_paths\n",
    "from vidlib.audio_tools import join_wav_audios\n",
    "\n",
    "paths = list_full_paths(AUDIOS_DIR, only_format='.wav')\n",
    "paths = sorted(paths)\n",
    "join_wav_audios(paths, 'output.wav')\n"
   ],
   "metadata": {
    "collapsed": false,
    "pycharm": {
     "name": "#%%\n"
    }
   }
  }
 ],
 "metadata": {
  "kernelspec": {
   "display_name": "Python 3",
   "language": "python",
   "name": "python3"
  },
  "language_info": {
   "codemirror_mode": {
    "name": "ipython",
    "version": 2
   },
   "file_extension": ".py",
   "mimetype": "text/x-python",
   "name": "python",
   "nbconvert_exporter": "python",
   "pygments_lexer": "ipython2",
   "version": "2.7.6"
  }
 },
 "nbformat": 4,
 "nbformat_minor": 0
}