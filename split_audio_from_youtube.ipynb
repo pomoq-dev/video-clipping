{
 "cells": [
  {
   "cell_type": "markdown",
   "source": [
    "<a href=\"https://colab.research.google.com/github/pomoq-dev/video-clipping/blob/master/split_audio_from_youtube.ipynb\" target=\"_parent\"><img src=\"https://colab.research.google.com/assets/colab-badge.svg\" alt=\"Open In Colab\"/></a>"
   ],
   "metadata": {
    "collapsed": false,
    "pycharm": {
     "name": "#%% md\n"
    }
   }
  },
  {
   "cell_type": "code",
   "execution_count": null,
   "outputs": [],
   "source": [
    "from google.colab import drive\n",
    "drive.mount('/content/drive')\n",
    "\n",
    "import os\n",
    "\n",
    "DOWNLOAD_AUDIO_DIR = '/content/drive/MyDrive/DOWNLOAD_AUDIO_DIR'\n",
    "DOWNLOAD_VIDEO_DIR = '/content/drive/MyDrive/DOWNLOAD_VIDEO_DIR'\n",
    "SPLIT_AUDIO_DIR = '/content/drive/MyDrive/SPLIT_AUDIO_DIR'\n",
    "os.makedirs(DOWNLOAD_AUDIO_DIR, exist_ok=True)\n",
    "os.makedirs(DOWNLOAD_VIDEO_DIR, exist_ok=True)\n",
    "os.makedirs(SPLIT_AUDIO_DIR, exist_ok=True)"
   ],
   "metadata": {
    "collapsed": false,
    "pycharm": {
     "name": "#%%\n"
    }
   }
  },
  {
   "cell_type": "code",
   "execution_count": null,
   "outputs": [],
   "source": [
    "print('Git clone project and install requirements...')\n",
    "!git clone https://github.com/pomoq-dev/video-clipping.git &> /dev/null\n",
    "%cd video-clipping/\n",
    "\n",
    "!export PYTHONPATH=/content/video-clipping:$PYTHONPATH\n",
    "!wget https://github.com/yt-dlp/yt-dlp/releases/latest/download/yt-dlp -O /usr/local/bin/yt-dlp\n",
    "!chmod a+rx /usr/local/bin/yt-dlp\n",
    "\n",
    "!pip install -r requirements.txt"
   ],
   "metadata": {
    "collapsed": false,
    "pycharm": {
     "name": "#%%\n"
    }
   }
  },
  {
   "cell_type": "code",
   "execution_count": null,
   "outputs": [],
   "source": [
    "from vidlib.download import download_video_and_audio\n",
    "\n",
    "download_video_and_audio('https://www.youtube.com/watch?v=h6pHoIT-CkM&ab_channel=TED', DOWNLOAD_VIDEO_DIR, DOWNLOAD_AUDIO_DIR)"
   ],
   "metadata": {
    "collapsed": false,
    "pycharm": {
     "name": "#%%\n"
    }
   }
  }
 ],
 "metadata": {
  "kernelspec": {
   "display_name": "Python 3",
   "language": "python",
   "name": "python3"
  },
  "language_info": {
   "codemirror_mode": {
    "name": "ipython",
    "version": 2
   },
   "file_extension": ".py",
   "mimetype": "text/x-python",
   "name": "python",
   "nbconvert_exporter": "python",
   "pygments_lexer": "ipython2",
   "version": "2.7.6"
  }
 },
 "nbformat": 4,
 "nbformat_minor": 0
}