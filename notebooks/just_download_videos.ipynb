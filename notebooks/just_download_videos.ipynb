{
 "cells": [
  {
   "cell_type": "code",
   "execution_count": null,
   "metadata": {
    "collapsed": true,
    "pycharm": {
     "name": "#%%\n"
    }
   },
   "outputs": [],
   "source": [
    "import os\n",
    "from google.colab import drive\n",
    "\n",
    "TARGET_DIR = 'INSTALL_VIDEOS'\n",
    "\n",
    "drive.mount('/content/drive')\n",
    "os.makedirs(TARGET_DIR, exist_ok=True)"
   ]
  },
  {
   "cell_type": "code",
   "execution_count": null,
   "outputs": [],
   "source": [
    "print('Git clone project and install requirements...')\n",
    "!git clone https://github.com/pomoq-dev/video-clipping.git &> /dev/null\n",
    "%cd video-clipping/\n",
    "\n",
    "!export PYTHONPATH=/content/video-clipping:$PYTHONPATH\n",
    "!wget https://github.com/yt-dlp/yt-dlp/releases/latest/download/yt-dlp -O /usr/local/bin/yt-dlp\n",
    "!chmod a+rx /usr/local/bin/yt-dlp\n",
    "\n",
    "!pip install -r requirements.txt"
   ],
   "metadata": {
    "collapsed": false,
    "pycharm": {
     "name": "#%%\n"
    }
   }
  },
  {
   "cell_type": "code",
   "execution_count": null,
   "outputs": [],
   "source": [
    "video_urls = ['https://www.youtube.com/watch?v=wwEPjMhthI4&t=49s', # zoom\n",
    "              'https://www.youtube.com/watch?v=6FQhQttsXWc&t=52s',\n",
    "              'https://www.youtube.com/watch?v=0CmXe5NhQDA',\n",
    "              'https://www.youtube.com/watch?v=ZRkaDDshJ5E&t=61s',\n",
    "              'https://www.youtube.com/watch?v=_jLFbu3Y7mk&t=58s',\n",
    "              'https://www.youtube.com/watch?v=B6U9Yy6Si2s&t=42s',\n",
    "              'https://www.youtube.com/watch?v=d6JZRJzt074', # photoshop 40\n",
    "              'https://www.youtube.com/watch?v=Ew_ReoK1zMc', # chrome\n",
    "              'https://www.youtube.com/watch?v=8NjoDXfQVqU', # gta\n",
    "              'https://www.youtube.com/watch?v=4e5ZMtRGJLg', # office\n",
    "              'https://www.youtube.com/watch?v=u2HduC5yCeE', # whatsapp (sound)\n",
    "              'https://www.youtube.com/watch?v=UWX07sv5I_4', # photoshop only sound\n",
    "              'https://www.youtube.com/watch?v=ncO8vekrfao', # fix sound\n",
    "              'https://www.youtube.com/watch?v=zX6eh5615bE', # steam\n",
    "              'https://www.youtube.com/watch?v=hMP9bAn_Okw', # skype\n",
    "              'https://www.youtube.com/watch?v=t6ocxIL_KWE'] # fix bluetooth\n",
    "                # 'https://www.youtube.com/watch?v=OzmjkLOYtDE',\n",
    "              # 'https://www.youtube.com/watch?v=te8KE71ndso',\n",
    "              # 'https://www.youtube.com/watch?v=zJlY0eYloOU',\n",
    "              # 'https://www.youtube.com/watch?v=jz6mTXV4AMc',\n",
    "              # 'https://www.youtube.com/watch?v=jz6mTXV4AMc',\n",
    "              # 'https://www.youtube.com/watch?v=jz6mTXV4AMc',\n",
    "              # 'https://www.youtube.com/watch?v=jz6mTXV4AMc',\n",
    "              # 'https://www.youtube.com/watch?v=jz6mTXV4AMc',\n",
    "              # 'https://www.youtube.com/watch?v=jz6mTXV4AMc',\n",
    "              # 'https://www.youtube.com/watch?v=jz6mTXV4AMc',\n",
    "              # 'https://www.youtube.com/watch?v=jz6mTXV4AMc',\n",
    "              # 'https://www.youtube.com/watch?v=jz6mTXV4AMc',\n",
    "              # 'https://www.youtube.com/watch?v=jz6mTXV4AMc',\n",
    "              # 'https://www.youtube.com/watch?v=jz6mTXV4AMc',\n",
    "              # 'https://www.youtube.com/watch?v=jz6mTXV4AMc',\n",
    "              # 'https://www.youtube.com/watch?v=jz6mTXV4AMc',\n",
    "              # 'https://www.youtube.com/watch?v=jz6mTXV4AMc',\n",
    "              # 'https://www.youtube.com/watch?v=jz6mTXV4AMc',\n",
    "              # 'https://www.youtube.com/watch?v=jz6mTXV4AMc',\n",
    "              # 'https://www.youtube.com/watch?v=jz6mTXV4AMc']"
   ],
   "metadata": {
    "collapsed": false,
    "pycharm": {
     "name": "#%%\n"
    }
   }
  },
  {
   "cell_type": "code",
   "execution_count": null,
   "outputs": [],
   "source": [
    "from vidlib import download\n",
    "\n",
    "for ind, url in enumerate(video_urls):\n",
    "    res_video_path = os.path.join(TARGET_DIR, 'video{}'.format(ind))\n",
    "    res_audio_path = os.path.join(TARGET_DIR, 'audio{}'.format(ind))\n",
    "    download.download_video_and_audio_using_lib(url, res_video_path, res_audio_path)"
   ],
   "metadata": {
    "collapsed": false,
    "pycharm": {
     "name": "#%%\n"
    }
   }
  }
 ],
 "metadata": {
  "kernelspec": {
   "display_name": "Python 3",
   "language": "python",
   "name": "python3"
  },
  "language_info": {
   "codemirror_mode": {
    "name": "ipython",
    "version": 2
   },
   "file_extension": ".py",
   "mimetype": "text/x-python",
   "name": "python",
   "nbconvert_exporter": "python",
   "pygments_lexer": "ipython2",
   "version": "2.7.6"
  }
 },
 "nbformat": 4,
 "nbformat_minor": 0
}