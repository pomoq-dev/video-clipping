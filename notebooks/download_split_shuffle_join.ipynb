{
 "cells": [
  {
   "cell_type": "markdown",
   "source": [
    "<a href=\"https://colab.research.google.com/github/pomoq-dev/video-clipping/blob/master/notebooks/download_and_split_video.py\" target=\"_parent\"><img src=\"https://colab.research.google.com/assets/colab-badge.svg\" alt=\"Open In Colab\"/></a>"
   ],
   "metadata": {
    "collapsed": false,
    "pycharm": {
     "name": "#%% md\n"
    }
   }
  },
  {
   "cell_type": "code",
   "execution_count": null,
   "outputs": [],
   "source": [
    "from google.colab import drive\n",
    "import os\n",
    "\n",
    "drive.mount('/content/drive')\n",
    "\n",
    "DIR_DOWNLOAD_VIDEO = '/content/drive/MyDrive/DOWNLOAD_JOKE_VIDEO'\n",
    "DIR_SPLIT_FRAGMENTS = '/content/drive/MyDrive/DOWNLOAD_JOKE_VIDEO_FRAGMENTS'\n",
    "DIR_DOWNLOAD_AUDIO = '/content/drive/MyDrive/DOWNLOAD_JOKE_AUDIO'\n",
    "DIR_REACTIONS = '/content/drive/MyDrive/REACTIONS_VIDEO'\n",
    "RES_DIR = '/content/drive/MyDrive/REACTIONS_VIDEO'\n",
    "\n",
    "os.makedirs(DIR_DOWNLOAD_VIDEO, exist_ok=True)\n",
    "os.makedirs(DIR_DOWNLOAD_AUDIO, exist_ok=True)\n",
    "os.makedirs(DIR_REACTIONS, exist_ok=True)\n",
    "os.makedirs(RES_DIR, exist_ok=True)"
   ],
   "metadata": {
    "collapsed": false,
    "pycharm": {
     "name": "#%%\n"
    }
   }
  },
  {
   "cell_type": "code",
   "execution_count": null,
   "outputs": [],
   "source": [
    "video_urls = ['https://www.youtube.com/watch?v=jz6mTXV4AMc',\n",
    "              'https://www.youtube.com/watch?v=ug9BcMvUHQU',\n",
    "              'https://www.youtube.com/watch?v=xRhWqISvhKU',\n",
    "              'https://www.youtube.com/watch?v=a0URj5SoMOc',\n",
    "              'https://www.youtube.com/watch?v=3KByoovkDL4',\n",
    "              'https://www.youtube.com/watch?v=n0vheTRoHVM',\n",
    "              'https://www.youtube.com/watch?v=6wEOOFXfjZ4',\n",
    "              'https://www.youtube.com/watch?v=EKkYwu7nYLc']"
   ],
   "metadata": {
    "collapsed": false,
    "pycharm": {
     "name": "#%%\n"
    }
   }
  },
  {
   "cell_type": "code",
   "execution_count": null,
   "outputs": [],
   "source": [
    "from vidlib import download_and_split_video\n",
    "download_and_split_video.download_and_split_by_clips(video_urls, DIR_DOWNLOAD_VIDEO, DIR_SPLIT_FRAGMENTS, subclip_len=30, skip_first=11, add_audio=False)"
   ],
   "metadata": {
    "collapsed": false,
    "pycharm": {
     "name": "#%%\n"
    }
   }
  },
  {
   "cell_type": "code",
   "execution_count": null,
   "outputs": [],
   "source": [],
   "metadata": {
    "collapsed": false,
    "pycharm": {
     "name": "#%%\n"
    }
   }
  }
 ],
 "metadata": {
  "kernelspec": {
   "display_name": "Python 3",
   "language": "python",
   "name": "python3"
  },
  "language_info": {
   "codemirror_mode": {
    "name": "ipython",
    "version": 2
   },
   "file_extension": ".py",
   "mimetype": "text/x-python",
   "name": "python",
   "nbconvert_exporter": "python",
   "pygments_lexer": "ipython2",
   "version": "2.7.6"
  }
 },
 "nbformat": 4,
 "nbformat_minor": 0
}