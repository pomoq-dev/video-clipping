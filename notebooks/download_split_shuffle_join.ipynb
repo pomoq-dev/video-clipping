{
 "cells": [
  {
   "cell_type": "markdown",
   "source": [
    "<a href=\"https://colab.research.google.com/github/pomoq-dev/video-clipping/blob/master/notebooks/download_split_shuffle_join.ipynb\" target=\"_parent\"><img src=\"https://colab.research.google.com/assets/colab-badge.svg\" alt=\"Open In Colab\"/></a>"
   ],
   "metadata": {
    "collapsed": false,
    "pycharm": {
     "name": "#%% md\n"
    }
   }
  },
  {
   "cell_type": "code",
   "execution_count": null,
   "outputs": [],
   "source": [
    "import random\n",
    "\n",
    "SUBLICP_LEN = 30\n",
    "SKIP_FIRST = 11\n",
    "ORIGINAL_AUDIO = False\n",
    "CLIPS_IN_VIDEO = 30\n",
    "\n",
    "from google.colab import drive\n",
    "import os\n",
    "\n",
    "drive.mount('/content/drive')\n",
    "\n",
    "DIR_DOWNLOAD_VIDEO = '/content/drive/MyDrive/DOWNLOAD_JOKE_VIDEO'\n",
    "DIR_SPLIT_FRAGMENTS = '/content/drive/MyDrive/DOWNLOAD_JOKE_VIDEO_FRAGMENTS'\n",
    "DIR_REACTIONS = '/content/drive/MyDrive/REACTIONS_VIDEO'\n",
    "RES_DIR = '/content/drive/MyDrive/RES_FRAGMENTS_WITH_REACTIONS'\n",
    "\n",
    "os.makedirs(DIR_DOWNLOAD_VIDEO, exist_ok=True)\n",
    "os.makedirs(DIR_SPLIT_FRAGMENTS, exist_ok=True)\n",
    "os.makedirs(RES_DIR, exist_ok=True)"
   ],
   "metadata": {
    "collapsed": false,
    "pycharm": {
     "name": "#%%\n"
    }
   }
  },
  {
   "cell_type": "code",
   "execution_count": null,
   "outputs": [],
   "source": [
    "video_urls = ['https://www.youtube.com/watch?v=jz6mTXV4AMc',\n",
    "              'https://www.youtube.com/watch?v=ug9BcMvUHQU',\n",
    "              'https://www.youtube.com/watch?v=xRhWqISvhKU',\n",
    "              'https://www.youtube.com/watch?v=a0URj5SoMOc',\n",
    "              'https://www.youtube.com/watch?v=3KByoovkDL4',\n",
    "              'https://www.youtube.com/watch?v=n0vheTRoHVM',\n",
    "              'https://www.youtube.com/watch?v=6wEOOFXfjZ4',\n",
    "              'https://www.youtube.com/watch?v=EKkYwu7nYLc']"
   ],
   "metadata": {
    "collapsed": false,
    "pycharm": {
     "name": "#%%\n"
    }
   }
  },
  {
   "cell_type": "code",
   "execution_count": null,
   "outputs": [],
   "source": [
    "print('Git clone project and install requirements...')\n",
    "!git clone https://github.com/pomoq-dev/video-clipping.git &> /dev/null\n",
    "%cd video-clipping/\n",
    "\n",
    "!export PYTHONPATH=/content/video-clipping:$PYTHONPATH\n",
    "!wget https://github.com/yt-dlp/yt-dlp/releases/latest/download/yt-dlp -O /usr/local/bin/yt-dlp\n",
    "!chmod a+rx /usr/local/bin/yt-dlp\n",
    "\n",
    "!pip install -r requirements.txt"
   ],
   "metadata": {
    "collapsed": false,
    "pycharm": {
     "name": "#%%\n"
    }
   }
  },
  {
   "cell_type": "code",
   "execution_count": null,
   "outputs": [],
   "source": [
    "from vidlib import download_and_split_video\n",
    "download_and_split_video.download_and_split_by_clips(video_urls, DIR_DOWNLOAD_VIDEO, DIR_SPLIT_FRAGMENTS, subclip_len=SUBLICP_LEN, skip_first=SKIP_FIRST, add_audio=ORIGINAL_AUDIO)"
   ],
   "metadata": {
    "collapsed": false,
    "pycharm": {
     "name": "#%%\n"
    }
   }
  },
  {
   "cell_type": "code",
   "execution_count": null,
   "outputs": [],
   "source": [
    "from vidlib import files_tools, video_tools\n",
    "from moviepy import editor as mpe\n",
    "\n",
    "reactions_paths = files_tools.list_full_paths(DIR_REACTIONS, only_format='.mp4')\n",
    "\n",
    "clips_paths = files_tools.list_full_paths(DIR_SPLIT_FRAGMENTS, only_format='.mp4')\n",
    "random.shuffle(clips_paths)\n",
    "clips_chunks = [clips_paths[i:i + CLIPS_IN_VIDEO] for i in range(0, len(clips_paths), CLIPS_IN_VIDEO)]\n",
    "\n",
    "for res_ind, clips_chunk in enumerate(clips_chunks):\n",
    "    chunk_with_reactions = []\n",
    "    for clip_path in clips_chunk:\n",
    "        clip = mpe.VideoFileClip(clip_path)\n",
    "        width = clip.size[0]\n",
    "        chunk_with_reactions.append(clip)\n",
    "        reaction_path = random.choice(reactions_paths)\n",
    "        reaction = mpe.VideoFileClip(reaction_path)\n",
    "        reaction = reaction.resize(width=width)\n",
    "        chunk_with_reactions.append(reaction)\n",
    "    video = video_tools.concatenate_videos(chunk_with_reactions)\n",
    "    video_tools.save_video(video, os.path.join(RES_DIR, 'res{}.mp4'.format(res_ind)))\n"
   ],
   "metadata": {
    "collapsed": false,
    "pycharm": {
     "name": "#%%\n"
    }
   }
  }
 ],
 "metadata": {
  "kernelspec": {
   "display_name": "Python 3",
   "language": "python",
   "name": "python3"
  },
  "language_info": {
   "codemirror_mode": {
    "name": "ipython",
    "version": 2
   },
   "file_extension": ".py",
   "mimetype": "text/x-python",
   "name": "python",
   "nbconvert_exporter": "python",
   "pygments_lexer": "ipython2",
   "version": "2.7.6"
  }
 },
 "nbformat": 4,
 "nbformat_minor": 0
}