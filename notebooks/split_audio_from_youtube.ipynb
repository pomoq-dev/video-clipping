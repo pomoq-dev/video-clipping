{
 "cells": [
  {
   "cell_type": "markdown",
   "source": [
    "<a href=\"https://colab.research.google.com/github/pomoq-dev/video-clipping/blob/master/notebooks/split_audio_from_youtube.ipynb\" target=\"_parent\"><img src=\"https://colab.research.google.com/assets/colab-badge.svg\" alt=\"Open In Colab\"/></a>"
   ],
   "metadata": {
    "collapsed": false,
    "pycharm": {
     "name": "#%% md\n"
    }
   }
  },
  {
   "cell_type": "code",
   "execution_count": null,
   "outputs": [],
   "source": [
    "from google.colab import drive\n",
    "drive.mount('/content/drive')\n",
    "\n",
    "import os\n",
    "\n",
    "DOWNLOAD_AUDIO_DIR = '/content/drive/MyDrive/DOWNLOAD_AUDIO_DIR'\n",
    "DOWNLOAD_VIDEO_DIR = '/content/drive/MyDrive/DOWNLOAD_VIDEO_DIR'\n",
    "SPLIT_AUDIO_DIR = '/content/drive/MyDrive/SPLIT_AUDIO_DIR'\n",
    "os.makedirs(DOWNLOAD_AUDIO_DIR, exist_ok=True)\n",
    "os.makedirs(DOWNLOAD_VIDEO_DIR, exist_ok=True)\n",
    "os.makedirs(SPLIT_AUDIO_DIR, exist_ok=True)"
   ],
   "metadata": {
    "collapsed": false,
    "pycharm": {
     "name": "#%%\n"
    }
   }
  },
  {
   "cell_type": "code",
   "execution_count": null,
   "outputs": [],
   "source": [
    "print('Git clone project and install requirements...')\n",
    "!git clone https://github.com/pomoq-dev/video-clipping.git &> /dev/null\n",
    "%cd video-clipping/\n",
    "\n",
    "!export PYTHONPATH=/content/video-clipping:$PYTHONPATH\n",
    "!wget https://github.com/yt-dlp/yt-dlp/releases/latest/download/yt-dlp -O /usr/local/bin/yt-dlp\n",
    "!chmod a+rx /usr/local/bin/yt-dlp\n",
    "\n",
    "!pip install -r requirements.txt"
   ],
   "metadata": {
    "collapsed": false,
    "pycharm": {
     "name": "#%%\n"
    }
   }
  },
  {
   "cell_type": "code",
   "execution_count": null,
   "outputs": [],
   "source": [
    "from vidlib import audio_tools\n",
    "from vidlib.download import download_video_and_audio_using_lib\n",
    "from moviepy import editor as mpe\n",
    "\n",
    "urls = ['https://www.youtube.com/watch?v=h6pHoIT-CkM&ab_channel=TED']\n",
    "\n",
    "for ind, url in enumerate(urls):\n",
    "    res_video_path = os.path.join(DOWNLOAD_VIDEO_DIR, 'vid{}.mp4'.format(ind))\n",
    "    res_audio_path = os.path.join(DOWNLOAD_AUDIO_DIR, 'aud{}.m4a'.format(ind))\n",
    "    download_video_and_audio_using_lib(url, res_video_path, res_audio_path)\n",
    "    audio = mpe.AudioFileClip(res_audio_path)\n",
    "    sub_audios = audio_tools.split_audio_to_parts(audio, piece_duration=30)\n",
    "    for ind_sub, sub_audio in enumerate(sub_audios):\n",
    "        sub_audio_path = os.path.join(SPLIT_AUDIO_DIR, 'res_sub_audio{}.m4a'.format(ind_sub))\n",
    "        audio_tools.save_audio(audio, sub_audio_path)\n",
    "        sub_audio_wav_path = '{}.wav'.format(sub_audio_path.rsplit('-', 1)[0])\n",
    "        audio_tools.m4a2wav(sub_audio_path, sub_audio_wav_path)\n"
   ],
   "metadata": {
    "collapsed": false,
    "pycharm": {
     "name": "#%%\n"
    }
   }
  },
  {
   "cell_type": "code",
   "execution_count": null,
   "outputs": [],
   "source": [
    "\n",
    "\n"
   ],
   "metadata": {
    "collapsed": false,
    "pycharm": {
     "name": "#%%\n"
    }
   }
  }
 ],
 "metadata": {
  "kernelspec": {
   "display_name": "Python 3",
   "language": "python",
   "name": "python3"
  },
  "language_info": {
   "codemirror_mode": {
    "name": "ipython",
    "version": 2
   },
   "file_extension": ".py",
   "mimetype": "text/x-python",
   "name": "python",
   "nbconvert_exporter": "python",
   "pygments_lexer": "ipython2",
   "version": "2.7.6"
  }
 },
 "nbformat": 4,
 "nbformat_minor": 0
}