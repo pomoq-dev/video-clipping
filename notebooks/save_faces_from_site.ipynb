{
 "cells": [
  {
   "cell_type": "markdown",
   "source": [
    "<a href=\"https://colab.research.google.com/github/pomoq-dev/video-clipping/blob/master/notebooks/save_faces_from_site.ipynb\" target=\"_parent\"><img src=\"https://colab.research.google.com/assets/colab-badge.svg\" alt=\"Open In Colab\"/></a>"
   ],
   "metadata": {
    "collapsed": false,
    "pycharm": {
     "name": "#%% md\n"
    }
   }
  },
  {
   "cell_type": "code",
   "execution_count": null,
   "outputs": [],
   "source": [
    "from google.colab import drive\n",
    "import os\n",
    "\n",
    "drive.mount('/content/drive')\n",
    "\n",
    "SAVE_IMGS_DIR = '/content/drive/MyDrive/FACES_IMAGES_SITE'\n",
    "os.makedirs(SAVE_IMGS_DIR, exist_ok=True)"
   ],
   "metadata": {
    "collapsed": false,
    "pycharm": {
     "name": "#%%\n"
    }
   }
  },
  {
   "cell_type": "code",
   "execution_count": null,
   "outputs": [],
   "source": [
    "import requests\n",
    "\n",
    "image_url = 'https://thispersondoesnotexist.com/image'\n",
    "img_want_cnt = 100\n",
    "\n",
    "for i in range(0, img_want_cnt):\n",
    "    img_name = 'image_{}.jpg'.format(i)\n",
    "    img_data = requests.get(image_url).content\n",
    "    with open(os.path.join(SAVE_IMGS_DIR, img_name), 'wb') as handler:\n",
    "        handler.write(img_data)"
   ],
   "metadata": {
    "collapsed": false,
    "pycharm": {
     "name": "#%%\n"
    }
   }
  }
 ],
 "metadata": {
  "kernelspec": {
   "display_name": "Python 3",
   "language": "python",
   "name": "python3"
  },
  "language_info": {
   "codemirror_mode": {
    "name": "ipython",
    "version": 2
   },
   "file_extension": ".py",
   "mimetype": "text/x-python",
   "name": "python",
   "nbconvert_exporter": "python",
   "pygments_lexer": "ipython2",
   "version": "2.7.6"
  }
 },
 "nbformat": 4,
 "nbformat_minor": 0
}